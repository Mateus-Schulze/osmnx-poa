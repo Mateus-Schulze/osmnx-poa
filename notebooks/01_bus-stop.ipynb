{
 "cells": [
  {
   "cell_type": "code",
   "execution_count": 4,
   "id": "5558e098-b4dd-4c8f-836d-144c7a8eab5d",
   "metadata": {
    "tags": []
   },
   "outputs": [
    {
     "data": {
      "text/plain": [
       "'1.2.3'"
      ]
     },
     "execution_count": 4,
     "metadata": {},
     "output_type": "execute_result"
    }
   ],
   "source": [
    "import geopandas as gpd\n",
    "import osmnx as ox\n",
    "import networkx as nx\n",
    "\n",
    "%matplotlib inline\n",
    "ox.__version__"
   ]
  },
  {
   "cell_type": "code",
   "execution_count": 9,
   "id": "0106a985-4ba8-4dbb-8a0c-06e9154ecbbd",
   "metadata": {
    "tags": []
   },
   "outputs": [
    {
     "data": {
      "text/html": [
       "<div>\n",
       "<style scoped>\n",
       "    .dataframe tbody tr th:only-of-type {\n",
       "        vertical-align: middle;\n",
       "    }\n",
       "\n",
       "    .dataframe tbody tr th {\n",
       "        vertical-align: top;\n",
       "    }\n",
       "\n",
       "    .dataframe thead th {\n",
       "        text-align: right;\n",
       "    }\n",
       "</style>\n",
       "<table border=\"1\" class=\"dataframe\">\n",
       "  <thead>\n",
       "    <tr style=\"text-align: right;\">\n",
       "      <th></th>\n",
       "      <th></th>\n",
       "      <th>highway</th>\n",
       "      <th>geometry</th>\n",
       "    </tr>\n",
       "    <tr>\n",
       "      <th>element_type</th>\n",
       "      <th>osmid</th>\n",
       "      <th></th>\n",
       "      <th></th>\n",
       "    </tr>\n",
       "  </thead>\n",
       "  <tbody>\n",
       "    <tr>\n",
       "      <th rowspan=\"11\" valign=\"top\">node</th>\n",
       "      <th>297129309</th>\n",
       "      <td>bus_stop</td>\n",
       "      <td>POINT (-51.19393 -30.01187)</td>\n",
       "    </tr>\n",
       "    <tr>\n",
       "      <th>297232808</th>\n",
       "      <td>bus_stop</td>\n",
       "      <td>POINT (-51.21973 -30.02337)</td>\n",
       "    </tr>\n",
       "    <tr>\n",
       "      <th>448709962</th>\n",
       "      <td>bus_stop</td>\n",
       "      <td>POINT (-51.19490 -30.03850)</td>\n",
       "    </tr>\n",
       "    <tr>\n",
       "      <th>448709966</th>\n",
       "      <td>bus_stop</td>\n",
       "      <td>POINT (-51.19248 -30.03861)</td>\n",
       "    </tr>\n",
       "    <tr>\n",
       "      <th>448709973</th>\n",
       "      <td>bus_stop</td>\n",
       "      <td>POINT (-51.19280 -30.03838)</td>\n",
       "    </tr>\n",
       "    <tr>\n",
       "      <th>...</th>\n",
       "      <td>...</td>\n",
       "      <td>...</td>\n",
       "    </tr>\n",
       "    <tr>\n",
       "      <th>9975685338</th>\n",
       "      <td>bus_stop</td>\n",
       "      <td>POINT (-51.19141 -30.12288)</td>\n",
       "    </tr>\n",
       "    <tr>\n",
       "      <th>10030658125</th>\n",
       "      <td>bus_stop</td>\n",
       "      <td>POINT (-51.19126 -30.12340)</td>\n",
       "    </tr>\n",
       "    <tr>\n",
       "      <th>10030658126</th>\n",
       "      <td>bus_stop</td>\n",
       "      <td>POINT (-51.18858 -30.12499)</td>\n",
       "    </tr>\n",
       "    <tr>\n",
       "      <th>10030658127</th>\n",
       "      <td>bus_stop</td>\n",
       "      <td>POINT (-51.18283 -30.12752)</td>\n",
       "    </tr>\n",
       "    <tr>\n",
       "      <th>10030658128</th>\n",
       "      <td>bus_stop</td>\n",
       "      <td>POINT (-51.18785 -30.12515)</td>\n",
       "    </tr>\n",
       "  </tbody>\n",
       "</table>\n",
       "<p>1448 rows × 2 columns</p>\n",
       "</div>"
      ],
      "text/plain": [
       "                           highway                     geometry\n",
       "element_type osmid                                             \n",
       "node         297129309    bus_stop  POINT (-51.19393 -30.01187)\n",
       "             297232808    bus_stop  POINT (-51.21973 -30.02337)\n",
       "             448709962    bus_stop  POINT (-51.19490 -30.03850)\n",
       "             448709966    bus_stop  POINT (-51.19248 -30.03861)\n",
       "             448709973    bus_stop  POINT (-51.19280 -30.03838)\n",
       "...                            ...                          ...\n",
       "             9975685338   bus_stop  POINT (-51.19141 -30.12288)\n",
       "             10030658125  bus_stop  POINT (-51.19126 -30.12340)\n",
       "             10030658126  bus_stop  POINT (-51.18858 -30.12499)\n",
       "             10030658127  bus_stop  POINT (-51.18283 -30.12752)\n",
       "             10030658128  bus_stop  POINT (-51.18785 -30.12515)\n",
       "\n",
       "[1448 rows x 2 columns]"
      ]
     },
     "execution_count": 9,
     "metadata": {},
     "output_type": "execute_result"
    }
   ],
   "source": [
    "place = \"Porto Alegre, Rio Grande do Sul, Brasil\"\n",
    "\n",
    "tags = {\"highway\": \"bus_stop\"}\n",
    "gdf = ox.geometries_from_place(place, tags)\n",
    "gdf[gdf[\"highway\"] == \"bus_stop\"].dropna(axis=1, how=\"any\")"
   ]
  },
  {
   "cell_type": "code",
   "execution_count": null,
   "id": "c81c6e76-5630-4de1-a783-0057339fe33b",
   "metadata": {},
   "outputs": [],
   "source": [
    "# Salvar como CSV\n",
    "gdf.to_csv('.bus_stop_porto-alegre.csv', encoding='utf-8')"
   ]
  },
  {
   "cell_type": "code",
   "execution_count": null,
   "id": "7dd1feb3-4f84-4f9f-aa50-3919db9de627",
   "metadata": {},
   "outputs": [],
   "source": []
  }
 ],
 "metadata": {
  "kernelspec": {
   "display_name": "Python 3 (ipykernel)",
   "language": "python",
   "name": "python3"
  },
  "language_info": {
   "codemirror_mode": {
    "name": "ipython",
    "version": 3
   },
   "file_extension": ".py",
   "mimetype": "text/x-python",
   "name": "python",
   "nbconvert_exporter": "python",
   "pygments_lexer": "ipython3",
   "version": "3.10.8"
  }
 },
 "nbformat": 4,
 "nbformat_minor": 5
}
